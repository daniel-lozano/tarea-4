{
 "metadata": {
  "name": "taller1_puntos"
 },
 "nbformat": 3,
 "nbformat_minor": 0,
 "worksheets": [
  {
   "cells": [
    {
     "cell_type": "code",
     "collapsed": false,
     "input": [
      "import math\n",
      "from scipy.interpolate import interp1d\n",
      "%pylab inline\n",
      "x=array([1.0,2.0,4.0,5.0,6.0])\n",
      "y=array([3.0,-2.0,2.0,4.0,1.0])"
     ],
     "language": "python",
     "metadata": {},
     "outputs": []
    },
    {
     "cell_type": "code",
     "collapsed": false,
     "input": [
      "scatter(x,y)\n",
      "legend([\"data\"])\n",
      "ax = axes()\n",
      "ax.set_xlabel(\"$x$\",fontsize=20)\n",
      "ax.set_ylabel(\"$f(x)$\",fontsize=20)\n",
      "ax.set_title(\"$\\mathrm{data}$\", fontsize=20)\n",
      "filename = 'figure1'"
     ],
     "language": "python",
     "metadata": {},
     "outputs": []
    },
    {
     "cell_type": "code",
     "collapsed": false,
     "input": [
      "f=interp1d(x,y)\n",
      "plot(x,f(x))\n",
      "scatter(x,y)\n",
      "legend([\"interp1d\",\"data\"])"
     ],
     "language": "python",
     "metadata": {},
     "outputs": []
    },
    {
     "cell_type": "code",
     "collapsed": false,
     "input": [
      "def p(x1,x,y):\n",
      "    value=1\n",
      "    total=0\n",
      "    for i in range(size(x)):\n",
      "        #se hace la multiplicacion\n",
      "        for j in range(size(x)):\n",
      "            if(i!=j):\n",
      "                value=value*((x1-x[j])/(x[i]-x[j]))\n",
      "         #se toma la suma                 \n",
      "        total=total+y[i]*value        \n",
      "        value=1                                            \n",
      "    return total\n",
      "        \n",
      "    "
     ],
     "language": "python",
     "metadata": {},
     "outputs": []
    },
    {
     "cell_type": "code",
     "collapsed": false,
     "input": [
      "scatter(x,y)\n",
      "x1=linspace(1,6,10000)\n",
      "y1=p(x1,x,y)\n",
      "plot(x1,y1)\n",
      "legend([\"datos\",\"funcion\"])\n",
      "scatter(x,y)\n",
      "\n",
      "\n"
     ],
     "language": "python",
     "metadata": {},
     "outputs": [
      {
       "output_type": "pyout",
       "prompt_number": 33,
       "text": [
        "<matplotlib.collections.PathCollection at 0x3de7b10>"
       ]
      },
      {
       "output_type": "display_data",
       "png": "[encoded data removed]"
      }
     ],
     "prompt_number": 33
    },
    {
     "cell_type": "code",
     "collapsed": false,
     "input": [
      "\n"
     ],
     "language": "python",
     "metadata": {},
     "outputs": []
    }
   ],
   "metadata": {}
  }
 ]
}
