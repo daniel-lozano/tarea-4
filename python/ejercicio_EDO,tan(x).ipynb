{
 "metadata": {
  "name": "ejercicio_EDO,tan(x)"
 },
 "nbformat": 3,
 "nbformat_minor": 0,
 "worksheets": [
  {
   "cells": [
    {
     "cell_type": "code",
     "collapsed": false,
     "input": [
      "%pylab inline\n"
     ],
     "language": "python",
     "metadata": {},
     "outputs": [
      {
       "output_type": "stream",
       "stream": "stdout",
       "text": [
        "\n",
        "Welcome to pylab, a matplotlib-based Python environment [backend: module://IPython.zmq.pylab.backend_inline].\n",
        "For more information, type 'help(pylab)'.\n"
       ]
      }
     ],
     "prompt_number": 1
    },
    {
     "cell_type": "code",
     "collapsed": false,
     "input": [
      "h=0.05\n",
      "\n",
      "puntos=int((1+h)/h)"
     ],
     "language": "python",
     "metadata": {},
     "outputs": [],
     "prompt_number": 89
    },
    {
     "cell_type": "code",
     "collapsed": false,
     "input": [
      "x=empty(puntos)\n",
      "y=empty(puntos)\n",
      "\n"
     ],
     "language": "python",
     "metadata": {},
     "outputs": [],
     "prompt_number": 90
    },
    {
     "cell_type": "code",
     "collapsed": false,
     "input": [
      "def prima(x,y):\n",
      "    return (1+y*y)"
     ],
     "language": "python",
     "metadata": {},
     "outputs": [],
     "prompt_number": 91
    },
    {
     "cell_type": "code",
     "collapsed": false,
     "input": [
      "y[0]=0\n",
      "x[0]=0\n",
      "\n",
      "for i in range(1,puntos):\n",
      "    \n",
      "    #se halla k1 que va a la mitad del intervalo\n",
      "    k1=prima(x[i-1],y[i-1])\n",
      "    \n",
      "    x1=x[i-1]+h/2\n",
      "    y1=y[i-1]+h*k1/2\n",
      "    \n",
      "    #se halla k2 que va a la mitad del intervalo usando los puntos dados en k1\n",
      "    k2=prima(x1,y1)\n",
      "    \n",
      "\n",
      "    x2 = x[i-1] + (h/2.0)\n",
      "    y2 = y[i-1] + (h/2.0)*k2\n",
      "    \n",
      "    #se halla k3 que va al final del intervalo\n",
      "    k3 = prima(x2,y2)\n",
      "        \n",
      "    x3 = x[i-1] + h\n",
      "    y3 = y[i-1] + h * k3\n",
      "\n",
      "    #se halla k4 que va al final del intervalo usando los valores hallados con k3\n",
      "    k4 = prima(x3, y3)\n",
      "    \n",
      "    #promedio de los k's\n",
      "    \n",
      "    promedio_k = (1.0/6.0)*(k1 + 2.0*k2 + 2.0*k3 + k4)\n",
      "    \n",
      "    x[i] = x[i-1] + h\n",
      "    y[i] = y[i-1] + h * promedio_k\n",
      "    \n",
      "    \n",
      "    \n",
      "    \n",
      "    \n"
     ],
     "language": "python",
     "metadata": {},
     "outputs": [],
     "prompt_number": 92
    },
    {
     "cell_type": "code",
     "collapsed": false,
     "input": [
      "plot(x,y, 'ro', label=\"solucion numerica\")\n",
      "plot(x,tan(x),label=\"tan(x)\")\n",
      "plt.xlabel(\"x\")\n",
      "plt.ylabel(\"y(x)\")\n",
      "\n",
      "legend()\n",
      "savefig(\"test.pdf\")\n"
     ],
     "language": "python",
     "metadata": {},
     "outputs": [
      {
       "output_type": "display_data",
       "png": "[encoded data removed]"
      }
     ],
     "prompt_number": 93
    },
    {
     "cell_type": "code",
     "collapsed": false,
     "input": [],
     "language": "python",
     "metadata": {},
     "outputs": [],
     "prompt_number": 87
    },
    {
     "cell_type": "code",
     "collapsed": false,
     "input": [],
     "language": "python",
     "metadata": {},
     "outputs": []
    }
   ],
   "metadata": {}
  }
 ]
}